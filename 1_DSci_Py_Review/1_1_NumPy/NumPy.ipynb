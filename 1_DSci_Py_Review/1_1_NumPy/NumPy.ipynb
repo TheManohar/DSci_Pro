{
 "cells": [
  {
   "cell_type": "markdown",
   "metadata": {},
   "source": [
    "## NumPy Basics"
   ]
  },
  {
   "cell_type": "markdown",
   "metadata": {},
   "source": [
    "### Import Components"
   ]
  },
  {
   "cell_type": "code",
   "execution_count": 1,
   "metadata": {},
   "outputs": [],
   "source": [
    "import numpy as np"
   ]
  },
  {
   "cell_type": "markdown",
   "metadata": {},
   "source": [
    "### Create Arrays"
   ]
  },
  {
   "cell_type": "code",
   "execution_count": 2,
   "metadata": {},
   "outputs": [
    {
     "name": "stdout",
     "output_type": "stream",
     "text": [
      "[0 1 2 3 4 5 6 7 8 9]\n"
     ]
    }
   ],
   "source": [
    "#create an array with sequential numbers\n",
    "\n",
    "a = np.arange(10)\n",
    "print(a)"
   ]
  },
  {
   "cell_type": "code",
   "execution_count": 3,
   "metadata": {},
   "outputs": [
    {
     "data": {
      "text/plain": [
       "array([[ 0,  1,  2,  3,  4],\n",
       "       [ 5,  6,  7,  8,  9],\n",
       "       [10, 11, 12, 13, 14]])"
      ]
     },
     "execution_count": 3,
     "metadata": {},
     "output_type": "execute_result"
    }
   ],
   "source": [
    "a = np.arange(15).reshape(3, 5)\n",
    "a"
   ]
  },
  {
   "cell_type": "code",
   "execution_count": 4,
   "metadata": {},
   "outputs": [
    {
     "data": {
      "text/plain": [
       "array([[ 0,  1,  2,  3,  4],\n",
       "       [ 5,  6,  7,  8,  9],\n",
       "       [10, 11, 12, 13, 14]])"
      ]
     },
     "execution_count": 4,
     "metadata": {},
     "output_type": "execute_result"
    }
   ],
   "source": [
    "#create an array from list-like type\n",
    "np.array(a, dtype=None, copy=True, order='K', subok=False, ndmin=0)\t"
   ]
  },
  {
   "cell_type": "code",
   "execution_count": 5,
   "metadata": {},
   "outputs": [
    {
     "data": {
      "text/plain": [
       "array([1.        , 1.22222222, 1.44444444, 1.66666667, 1.88888889,\n",
       "       2.11111111, 2.33333333, 2.55555556, 2.77777778, 3.        ])"
      ]
     },
     "execution_count": 5,
     "metadata": {},
     "output_type": "execute_result"
    }
   ],
   "source": [
    "#create an array by interpolation\n",
    "np.linspace(1, # start\n",
    "            3, # stop\n",
    "            10 # num of of samples to generate\n",
    "           )"
   ]
  },
  {
   "cell_type": "code",
   "execution_count": 6,
   "metadata": {},
   "outputs": [
    {
     "data": {
      "text/plain": [
       "array([0., 0., 0., 0., 0., 0., 0., 0., 0., 0.])"
      ]
     },
     "execution_count": 6,
     "metadata": {},
     "output_type": "execute_result"
    }
   ],
   "source": [
    "#create an array full of zeros\n",
    "np.zeros(10)\t"
   ]
  },
  {
   "cell_type": "code",
   "execution_count": 7,
   "metadata": {},
   "outputs": [
    {
     "data": {
      "text/plain": [
       "array([1., 1., 1., 1., 1., 1., 1., 1., 1., 1.])"
      ]
     },
     "execution_count": 7,
     "metadata": {},
     "output_type": "execute_result"
    }
   ],
   "source": [
    "#create an array full of ones\n",
    "np.ones(10)\t"
   ]
  },
  {
   "cell_type": "code",
   "execution_count": 8,
   "metadata": {},
   "outputs": [
    {
     "data": {
      "text/plain": [
       "array([[1., 0., 0.],\n",
       "       [0., 1., 0.],\n",
       "       [0., 0., 1.]])"
      ]
     },
     "execution_count": 8,
     "metadata": {},
     "output_type": "execute_result"
    }
   ],
   "source": [
    "# Create an identity matrix\n",
    "np.eye(3)"
   ]
  },
  {
   "cell_type": "code",
   "execution_count": 9,
   "metadata": {},
   "outputs": [
    {
     "data": {
      "text/plain": [
       "array([-0.03017788, -0.81958375,  0.51959323, -0.2185339 , -2.17709605,\n",
       "        0.78681998, -0.15023078, -1.18020566, -0.70415562,  0.53222143,\n",
       "        0.67813686, -0.30082277,  0.41787458, -1.86939645,  1.44715553,\n",
       "        0.02155221, -1.28609943, -0.39605402,  1.85427751, -0.69503274,\n",
       "       -1.10363534, -1.18366878, -0.61191847,  2.20801666,  0.13593209,\n",
       "       -0.74041436,  1.58497942, -0.20245604,  0.97519727, -1.19371215,\n",
       "       -0.35327361,  0.07864731, -0.45499951, -0.80367437, -0.14078354,\n",
       "        0.22433141, -0.18681704,  1.93784932, -1.29052846,  1.44793225,\n",
       "        1.08807765,  0.63148258, -1.12314637, -1.52706331,  0.4748775 ,\n",
       "        0.2934326 ,  1.3555419 , -0.53878636,  1.30322185,  1.88564925,\n",
       "        2.41447007, -0.02712079, -0.24654917, -0.03378332, -0.63181534,\n",
       "       -2.0124289 ,  0.08860433,  0.16782004, -0.73798958, -0.52435543,\n",
       "        0.54100844,  0.05579992,  0.95957161,  0.53525063,  1.67857459,\n",
       "        0.48474043, -0.26936372,  1.00225132,  0.60651627, -0.21854135,\n",
       "        1.17219354, -0.02682567,  1.55215299, -1.24472946, -0.0614649 ,\n",
       "       -0.69746264, -0.99263211, -0.59379384, -2.20777726,  2.2965943 ,\n",
       "       -2.08720494, -0.17198486,  0.24123185,  1.5098793 ,  1.10873281,\n",
       "        0.31591857, -0.63276465,  1.05337151, -1.06932098, -0.61352386,\n",
       "       -1.84199883, -0.24329576,  1.09048443,  1.04725512, -0.02662958,\n",
       "       -0.11160969,  1.22217694, -0.16656725, -0.3075032 ,  1.69182786])"
      ]
     },
     "execution_count": 9,
     "metadata": {},
     "output_type": "execute_result"
    }
   ],
   "source": [
    "# Create random arrays\n",
    "np.random.random((3,3))\n",
    "np.random.normal(0.0, 1.0, 100)"
   ]
  },
  {
   "cell_type": "code",
   "execution_count": 10,
   "metadata": {},
   "outputs": [
    {
     "data": {
      "text/plain": [
       "(array([[0. , 0.5, 1. ],\n",
       "        [0. , 0.5, 1. ]]), array([[0., 0., 0.],\n",
       "        [1., 1., 1.]]))"
      ]
     },
     "execution_count": 10,
     "metadata": {},
     "output_type": "execute_result"
    }
   ],
   "source": [
    "#create a tuple of x/y gradients\n",
    "nx, ny = (3, 2)\n",
    "x = np.linspace(0, 1, nx)\n",
    "y = np.linspace(0, 1, ny)\n",
    "xv, yv = np.meshgrid(x, y)\n",
    "xv, yv"
   ]
  },
  {
   "cell_type": "code",
   "execution_count": 11,
   "metadata": {},
   "outputs": [
    {
     "data": {
      "text/plain": [
       "[array([[0, 1, 2],\n",
       "        [0, 1, 2],\n",
       "        [0, 1, 2]]), array([[0, 0, 0],\n",
       "        [1, 1, 1],\n",
       "        [2, 2, 2]])]"
      ]
     },
     "execution_count": 11,
     "metadata": {},
     "output_type": "execute_result"
    }
   ],
   "source": [
    "np.meshgrid([0, 1, 2], [0, 1, 2])"
   ]
  },
  {
   "cell_type": "markdown",
   "metadata": {},
   "source": [
    "## Selecting and modifying arrays"
   ]
  },
  {
   "cell_type": "code",
   "execution_count": 12,
   "metadata": {},
   "outputs": [],
   "source": [
    "a = np.arange(6) + np.arange(0, 51, 10)[:, np.newaxis]"
   ]
  },
  {
   "cell_type": "markdown",
   "metadata": {},
   "source": [
    "![numpy indexing](img/numpy_indexing.png)"
   ]
  },
  {
   "cell_type": "code",
   "execution_count": 13,
   "metadata": {},
   "outputs": [
    {
     "data": {
      "text/plain": [
       "array([3, 4])"
      ]
     },
     "execution_count": 13,
     "metadata": {},
     "output_type": "execute_result"
    }
   ],
   "source": [
    "a[0,  # 0th row, from top\n",
    "  3:5 # 3rd till 5th columns, from left\n",
    " ]"
   ]
  },
  {
   "cell_type": "code",
   "execution_count": 14,
   "metadata": {},
   "outputs": [
    {
     "data": {
      "text/plain": [
       "array([[44, 45],\n",
       "       [54, 55]])"
      ]
     },
     "execution_count": 14,
     "metadata": {},
     "output_type": "execute_result"
    }
   ],
   "source": [
    "a[4:, # from 4th row\n",
    " 4:   # from 4th column\n",
    " ]"
   ]
  },
  {
   "cell_type": "code",
   "execution_count": 15,
   "metadata": {},
   "outputs": [
    {
     "data": {
      "text/plain": [
       "array([ 2, 12, 22, 32, 42, 52])"
      ]
     },
     "execution_count": 15,
     "metadata": {},
     "output_type": "execute_result"
    }
   ],
   "source": [
    "a[:, # all rows\n",
    " 2   # just 2nd column\n",
    " ]"
   ]
  },
  {
   "cell_type": "code",
   "execution_count": 16,
   "metadata": {},
   "outputs": [
    {
     "data": {
      "text/plain": [
       "array([[20, 22, 24],\n",
       "       [40, 42, 44]])"
      ]
     },
     "execution_count": 16,
     "metadata": {},
     "output_type": "execute_result"
    }
   ],
   "source": [
    "a[2::2, # from 2nd row till end, step 2\n",
    " ::2    # all columns, step 2\n",
    " ]"
   ]
  },
  {
   "cell_type": "markdown",
   "metadata": {},
   "source": [
    "## Mandelbrot set drawing"
   ]
  },
  {
   "cell_type": "code",
   "execution_count": 17,
   "metadata": {},
   "outputs": [
    {
     "name": "stderr",
     "output_type": "stream",
     "text": [
      "/home/manohar/anaconda3/lib/python3.7/site-packages/ipykernel_launcher.py:25: RuntimeWarning: overflow encountered in square\n",
      "/home/manohar/anaconda3/lib/python3.7/site-packages/ipykernel_launcher.py:25: RuntimeWarning: invalid value encountered in square\n"
     ]
    },
    {
     "data": {
      "text/plain": [
       "<matplotlib.image.AxesImage at 0x7f1fba66e4a8>"
      ]
     },
     "execution_count": 17,
     "metadata": {},
     "output_type": "execute_result"
    },
    {
     "data": {
      "image/png": "[encoded data removed]",
      "text/plain": [
       "<Figure size 432x288 with 1 Axes>"
      ]
     },
     "metadata": {
      "needs_background": "light"
     },
     "output_type": "display_data"
    }
   ],
   "source": [
    "\"\"\"\n",
    "Drawing the Mandelbrot set\n",
    "based on R code by Myles Harrison\n",
    "http://www.everydayanalytics.ca\n",
    "\"\"\"\n",
    "import numpy as np\n",
    "from matplotlib.pyplot import imshow\n",
    "%matplotlib inline\n",
    "\n",
    "\n",
    "SIZE = 500\n",
    "\n",
    "x = np.linspace(-2.0, 1.0, SIZE)\n",
    "y = np.linspace(-1.5, 1.5, SIZE)\n",
    "\n",
    "ones = np.ones(SIZE)\n",
    "\n",
    "c = np.outer(x, ones) + 1j * np.outer(ones, y)\n",
    "\n",
    "z = np.zeros((SIZE, SIZE)) * 1j\n",
    "k = np.zeros((SIZE, SIZE))\n",
    "\n",
    "for i in range(100):\n",
    "    index = z < 2\n",
    "    z[index] = z[index] ** 2 + c[index]\n",
    "    k[index] = k[index] + 1\n",
    "\n",
    "imshow(k)"
   ]
  },
  {
   "cell_type": "code",
   "execution_count": null,
   "metadata": {},
   "outputs": [],
   "source": []
  }
 ],
 "metadata": {
  "kernelspec": {
   "display_name": "Python 3",
   "language": "python",
   "name": "python3"
  },
  "language_info": {
   "codemirror_mode": {
    "name": "ipython",
    "version": 3
   },
   "file_extension": ".py",
   "mimetype": "text/x-python",
   "name": "python",
   "nbconvert_exporter": "python",
   "pygments_lexer": "ipython3",
   "version": "3.6.7"
  }
 },
 "nbformat": 4,
 "nbformat_minor": 2
}
