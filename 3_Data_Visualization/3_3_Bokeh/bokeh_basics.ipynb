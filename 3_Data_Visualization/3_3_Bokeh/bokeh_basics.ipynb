{
 "cells": [
  {
   "cell_type": "code",
   "execution_count": 1,
   "metadata": {
    "collapsed": false
   },
   "outputs": [
    {
     "data": {
      "text/html": [
       "\n",
       "    <div class=\"bk-root\">\n",
       "        <a href=\"https://bokeh.pydata.org\" target=\"_blank\" class=\"bk-logo bk-logo-small bk-logo-notebook\"></a>\n",
       "        <span id=\"1001\">Loading BokehJS ...</span>\n",
       "    </div>"
      ]
     },
     "metadata": {},
     "output_type": "display_data"
    },
    {
     "data": {
      "application/javascript": [
       "\n",
       "(function(root) {\n",
       "  function now() {\n",
       "    return new Date();\n",
       "  }\n",
       "\n",
       "  var force = true;\n",
       "\n",
       "  if (typeof (root._bokeh_onload_callbacks) === \"undefined\" || force === true) {\n",
       "    root._bokeh_onload_callbacks = [];\n",
       "    root._bokeh_is_loading = undefined;\n",
       "  }\n",
       "\n",
       "  var JS_MIME_TYPE = 'application/javascript';\n",
       "  var HTML_MIME_TYPE = 'text/html';\n",
       "  var EXEC_MIME_TYPE = 'application/vnd.bokehjs_exec.v0+json';\n",
       "  var CLASS_NAME = 'output_bokeh rendered_html';\n",
       "\n",
       "  /**\n",
       "   * Render data to the DOM node\n",
       "   */\n",
       "  function render(props, node) {\n",
       "    var script = document.createElement(\"script\");\n",
       "    node.appendChild(script);\n",
       "  }\n",
       "\n",
       "  /**\n",
       "   * Handle when an output is cleared or removed\n",
       "   */\n",
       "  function handleClearOutput(event, handle) {\n",
       "    var cell = handle.cell;\n",
       "\n",
       "    var id = cell.output_area._bokeh_element_id;\n",
       "    var server_id = cell.output_area._bokeh_server_id;\n",
       "    // Clean up Bokeh references\n",
       "    if (id != null && id in Bokeh.index) {\n",
       "      Bokeh.index[id].model.document.clear();\n",
       "      delete Bokeh.index[id];\n",
       "    }\n",
       "\n",
       "    if (server_id !== undefined) {\n",
       "      // Clean up Bokeh references\n",
       "      var cmd = \"from bokeh.io.state import curstate; print(curstate().uuid_to_server['\" + server_id + \"'].get_sessions()[0].document.roots[0]._id)\";\n",
       "      cell.notebook.kernel.execute(cmd, {\n",
       "        iopub: {\n",
       "          output: function(msg) {\n",
       "            var id = msg.content.text.trim();\n",
       "            if (id in Bokeh.index) {\n",
       "              Bokeh.index[id].model.document.clear();\n",
       "              delete Bokeh.index[id];\n",
       "            }\n",
       "          }\n",
       "        }\n",
       "      });\n",
       "      // Destroy server and session\n",
       "      var cmd = \"import bokeh.io.notebook as ion; ion.destroy_server('\" + server_id + \"')\";\n",
       "      cell.notebook.kernel.execute(cmd);\n",
       "    }\n",
       "  }\n",
       "\n",
       "  /**\n",
       "   * Handle when a new output is added\n",
       "   */\n",
       "  function handleAddOutput(event, handle) {\n",
       "    var output_area = handle.output_area;\n",
       "    var output = handle.output;\n",
       "\n",
       "    // limit handleAddOutput to display_data with EXEC_MIME_TYPE content only\n",
       "    if ((output.output_type != \"display_data\") || (!output.data.hasOwnProperty(EXEC_MIME_TYPE))) {\n",
       "      return\n",
       "    }\n",
       "\n",
       "    var toinsert = output_area.element.find(\".\" + CLASS_NAME.split(' ')[0]);\n",
       "\n",
       "    if (output.metadata[EXEC_MIME_TYPE][\"id\"] !== undefined) {\n",
       "      toinsert[toinsert.length - 1].firstChild.textContent = output.data[JS_MIME_TYPE];\n",
       "      // store reference to embed id on output_area\n",
       "      output_area._bokeh_element_id = output.metadata[EXEC_MIME_TYPE][\"id\"];\n",
       "    }\n",
       "    if (output.metadata[EXEC_MIME_TYPE][\"server_id\"] !== undefined) {\n",
       "      var bk_div = document.createElement(\"div\");\n",
       "      bk_div.innerHTML = output.data[HTML_MIME_TYPE];\n",
       "      var script_attrs = bk_div.children[0].attributes;\n",
       "      for (var i = 0; i < script_attrs.length; i++) {\n",
       "        toinsert[toinsert.length - 1].firstChild.setAttribute(script_attrs[i].name, script_attrs[i].value);\n",
       "      }\n",
       "      // store reference to server id on output_area\n",
       "      output_area._bokeh_server_id = output.metadata[EXEC_MIME_TYPE][\"server_id\"];\n",
       "    }\n",
       "  }\n",
       "\n",
       "  function register_renderer(events, OutputArea) {\n",
       "\n",
       "    function append_mime(data, metadata, element) {\n",
       "      // create a DOM node to render to\n",
       "      var toinsert = this.create_output_subarea(\n",
       "        metadata,\n",
       "        CLASS_NAME,\n",
       "        EXEC_MIME_TYPE\n",
       "      );\n",
       "      this.keyboard_manager.register_events(toinsert);\n",
       "      // Render to node\n",
       "      var props = {data: data, metadata: metadata[EXEC_MIME_TYPE]};\n",
       "      render(props, toinsert[toinsert.length - 1]);\n",
       "      element.append(toinsert);\n",
       "      return toinsert\n",
       "    }\n",
       "\n",
       "    /* Handle when an output is cleared or removed */\n",
       "    events.on('clear_output.CodeCell', handleClearOutput);\n",
       "    events.on('delete.Cell', handleClearOutput);\n",
       "\n",
       "    /* Handle when a new output is added */\n",
       "    events.on('output_added.OutputArea', handleAddOutput);\n",
       "\n",
       "    /**\n",
       "     * Register the mime type and append_mime function with output_area\n",
       "     */\n",
       "    OutputArea.prototype.register_mime_type(EXEC_MIME_TYPE, append_mime, {\n",
       "      /* Is output safe? */\n",
       "      safe: true,\n",
       "      /* Index of renderer in `output_area.display_order` */\n",
       "      index: 0\n",
       "    });\n",
       "  }\n",
       "\n",
       "  // register the mime type if in Jupyter Notebook environment and previously unregistered\n",
       "  if (root.Jupyter !== undefined) {\n",
       "    var events = require('base/js/events');\n",
       "    var OutputArea = require('notebook/js/outputarea').OutputArea;\n",
       "\n",
       "    if (OutputArea.prototype.mime_types().indexOf(EXEC_MIME_TYPE) == -1) {\n",
       "      register_renderer(events, OutputArea);\n",
       "    }\n",
       "  }\n",
       "\n",
       "  \n",
       "  if (typeof (root._bokeh_timeout) === \"undefined\" || force === true) {\n",
       "    root._bokeh_timeout = Date.now() + 5000;\n",
       "    root._bokeh_failed_load = false;\n",
       "  }\n",
       "\n",
       "  var NB_LOAD_WARNING = {'data': {'text/html':\n",
       "     \"<div style='background-color: #fdd'>\\n\"+\n",
       "     \"<p>\\n\"+\n",
       "     \"BokehJS does not appear to have successfully loaded. If loading BokehJS from CDN, this \\n\"+\n",
       "     \"may be due to a slow or bad network connection. Possible fixes:\\n\"+\n",
       "     \"</p>\\n\"+\n",
       "     \"<ul>\\n\"+\n",
       "     \"<li>re-rerun `output_notebook()` to attempt to load from CDN again, or</li>\\n\"+\n",
       "     \"<li>use INLINE resources instead, as so:</li>\\n\"+\n",
       "     \"</ul>\\n\"+\n",
       "     \"<code>\\n\"+\n",
       "     \"from bokeh.resources import INLINE\\n\"+\n",
       "     \"output_notebook(resources=INLINE)\\n\"+\n",
       "     \"</code>\\n\"+\n",
       "     \"</div>\"}};\n",
       "\n",
       "  function display_loaded() {\n",
       "    var el = document.getElementById(\"1001\");\n",
       "    if (el != null) {\n",
       "      el.textContent = \"BokehJS is loading...\";\n",
       "    }\n",
       "    if (root.Bokeh !== undefined) {\n",
       "      if (el != null) {\n",
       "        el.textContent = \"BokehJS \" + root.Bokeh.version + \" successfully loaded.\";\n",
       "      }\n",
       "    } else if (Date.now() < root._bokeh_timeout) {\n",
       "      setTimeout(display_loaded, 100)\n",
       "    }\n",
       "  }\n",
       "\n",
       "\n",
       "  function run_callbacks() {\n",
       "    try {\n",
       "      root._bokeh_onload_callbacks.forEach(function(callback) { callback() });\n",
       "    }\n",
       "    finally {\n",
       "      delete root._bokeh_onload_callbacks\n",
       "    }\n",
       "    console.info(\"Bokeh: all callbacks have finished\");\n",
       "  }\n",
       "\n",
       "  function load_libs(js_urls, callback) {\n",
       "    root._bokeh_onload_callbacks.push(callback);\n",
       "    if (root._bokeh_is_loading > 0) {\n",
       "      console.log(\"Bokeh: BokehJS is being loaded, scheduling callback at\", now());\n",
       "      return null;\n",
       "    }\n",
       "    if (js_urls == null || js_urls.length === 0) {\n",
       "      run_callbacks();\n",
       "      return null;\n",
       "    }\n",
       "    console.log(\"Bokeh: BokehJS not loaded, scheduling load and callback at\", now());\n",
       "    root._bokeh_is_loading = js_urls.length;\n",
       "    for (var i = 0; i < js_urls.length; i++) {\n",
       "      var url = js_urls[i];\n",
       "      var s = document.createElement('script');\n",
       "      s.src = url;\n",
       "      s.async = false;\n",
       "      s.onreadystatechange = s.onload = function() {\n",
       "        root._bokeh_is_loading--;\n",
       "        if (root._bokeh_is_loading === 0) {\n",
       "          console.log(\"Bokeh: all BokehJS libraries loaded\");\n",
       "          run_callbacks()\n",
       "        }\n",
       "      };\n",
       "      s.onerror = function() {\n",
       "        console.warn(\"failed to load library \" + url);\n",
       "      };\n",
       "      console.log(\"Bokeh: injecting script tag for BokehJS library: \", url);\n",
       "      document.getElementsByTagName(\"head\")[0].appendChild(s);\n",
       "    }\n",
       "  };var element = document.getElementById(\"1001\");\n",
       "  if (element == null) {\n",
       "    console.log(\"Bokeh: ERROR: autoload.js configured with elementid '1001' but no matching script tag was found. \")\n",
       "    return false;\n",
       "  }\n",
       "\n",
       "  var js_urls = [\"https://cdn.pydata.org/bokeh/release/bokeh-1.0.2.min.js\", \"https://cdn.pydata.org/bokeh/release/bokeh-widgets-1.0.2.min.js\", \"https://cdn.pydata.org/bokeh/release/bokeh-tables-1.0.2.min.js\", \"https://cdn.pydata.org/bokeh/release/bokeh-gl-1.0.2.min.js\"];\n",
       "\n",
       "  var inline_js = [\n",
       "    function(Bokeh) {\n",
       "      Bokeh.set_log_level(\"info\");\n",
       "    },\n",
       "    \n",
       "    function(Bokeh) {\n",
       "      \n",
       "    },\n",
       "    function(Bokeh) {\n",
       "      console.log(\"Bokeh: injecting CSS: https://cdn.pydata.org/bokeh/release/bokeh-1.0.2.min.css\");\n",
       "      Bokeh.embed.inject_css(\"https://cdn.pydata.org/bokeh/release/bokeh-1.0.2.min.css\");\n",
       "      console.log(\"Bokeh: injecting CSS: https://cdn.pydata.org/bokeh/release/bokeh-widgets-1.0.2.min.css\");\n",
       "      Bokeh.embed.inject_css(\"https://cdn.pydata.org/bokeh/release/bokeh-widgets-1.0.2.min.css\");\n",
       "      console.log(\"Bokeh: injecting CSS: https://cdn.pydata.org/bokeh/release/bokeh-tables-1.0.2.min.css\");\n",
       "      Bokeh.embed.inject_css(\"https://cdn.pydata.org/bokeh/release/bokeh-tables-1.0.2.min.css\");\n",
       "    }\n",
       "  ];\n",
       "\n",
       "  function run_inline_js() {\n",
       "    \n",
       "    if ((root.Bokeh !== undefined) || (force === true)) {\n",
       "      for (var i = 0; i < inline_js.length; i++) {\n",
       "        inline_js[i].call(root, root.Bokeh);\n",
       "      }if (force === true) {\n",
       "        display_loaded();\n",
       "      }} else if (Date.now() < root._bokeh_timeout) {\n",
       "      setTimeout(run_inline_js, 100);\n",
       "    } else if (!root._bokeh_failed_load) {\n",
       "      console.log(\"Bokeh: BokehJS failed to load within specified timeout.\");\n",
       "      root._bokeh_failed_load = true;\n",
       "    } else if (force !== true) {\n",
       "      var cell = $(document.getElementById(\"1001\")).parents('.cell').data().cell;\n",
       "      cell.output_area.append_execute_result(NB_LOAD_WARNING)\n",
       "    }\n",
       "\n",
       "  }\n",
       "\n",
       "  if (root._bokeh_is_loading === 0) {\n",
       "    console.log(\"Bokeh: BokehJS loaded, going straight to plotting\");\n",
       "    run_inline_js();\n",
       "  } else {\n",
       "    load_libs(js_urls, function() {\n",
       "      console.log(\"Bokeh: BokehJS plotting callback run at\", now());\n",
       "      run_inline_js();\n",
       "    });\n",
       "  }\n",
       "}(window));"
      ],
      "application/vnd.bokehjs_load.v0+json": "\n(function(root) {\n  function now() {\n    return new Date();\n  }\n\n  var force = true;\n\n  if (typeof (root._bokeh_onload_callbacks) === \"undefined\" || force === true) {\n    root._bokeh_onload_callbacks = [];\n    root._bokeh_is_loading = undefined;\n  }\n\n  \n\n  \n  if (typeof (root._bokeh_timeout) === \"undefined\" || force === true) {\n    root._bokeh_timeout = Date.now() + 5000;\n    root._bokeh_failed_load = false;\n  }\n\n  var NB_LOAD_WARNING = {'data': {'text/html':\n     \"<div style='background-color: #fdd'>\\n\"+\n     \"<p>\\n\"+\n     \"BokehJS does not appear to have successfully loaded. If loading BokehJS from CDN, this \\n\"+\n     \"may be due to a slow or bad network connection. Possible fixes:\\n\"+\n     \"</p>\\n\"+\n     \"<ul>\\n\"+\n     \"<li>re-rerun `output_notebook()` to attempt to load from CDN again, or</li>\\n\"+\n     \"<li>use INLINE resources instead, as so:</li>\\n\"+\n     \"</ul>\\n\"+\n     \"<code>\\n\"+\n     \"from bokeh.resources import INLINE\\n\"+\n     \"output_notebook(resources=INLINE)\\n\"+\n     \"</code>\\n\"+\n     \"</div>\"}};\n\n  function display_loaded() {\n    var el = document.getElementById(\"1001\");\n    if (el != null) {\n      el.textContent = \"BokehJS is loading...\";\n    }\n    if (root.Bokeh !== undefined) {\n      if (el != null) {\n        el.textContent = \"BokehJS \" + root.Bokeh.version + \" successfully loaded.\";\n      }\n    } else if (Date.now() < root._bokeh_timeout) {\n      setTimeout(display_loaded, 100)\n    }\n  }\n\n\n  function run_callbacks() {\n    try {\n      root._bokeh_onload_callbacks.forEach(function(callback) { callback() });\n    }\n    finally {\n      delete root._bokeh_onload_callbacks\n    }\n    console.info(\"Bokeh: all callbacks have finished\");\n  }\n\n  function load_libs(js_urls, callback) {\n    root._bokeh_onload_callbacks.push(callback);\n    if (root._bokeh_is_loading > 0) {\n      console.log(\"Bokeh: BokehJS is being loaded, scheduling callback at\", now());\n      return null;\n    }\n    if (js_urls == null || js_urls.length === 0) {\n      run_callbacks();\n      return null;\n    }\n    console.log(\"Bokeh: BokehJS not loaded, scheduling load and callback at\", now());\n    root._bokeh_is_loading = js_urls.length;\n    for (var i = 0; i < js_urls.length; i++) {\n      var url = js_urls[i];\n      var s = document.createElement('script');\n      s.src = url;\n      s.async = false;\n      s.onreadystatechange = s.onload = function() {\n        root._bokeh_is_loading--;\n        if (root._bokeh_is_loading === 0) {\n          console.log(\"Bokeh: all BokehJS libraries loaded\");\n          run_callbacks()\n        }\n      };\n      s.onerror = function() {\n        console.warn(\"failed to load library \" + url);\n      };\n      console.log(\"Bokeh: injecting script tag for BokehJS library: \", url);\n      document.getElementsByTagName(\"head\")[0].appendChild(s);\n    }\n  };var element = document.getElementById(\"1001\");\n  if (element == null) {\n    console.log(\"Bokeh: ERROR: autoload.js configured with elementid '1001' but no matching script tag was found. \")\n    return false;\n  }\n\n  var js_urls = [\"https://cdn.pydata.org/bokeh/release/bokeh-1.0.2.min.js\", \"https://cdn.pydata.org/bokeh/release/bokeh-widgets-1.0.2.min.js\", \"https://cdn.pydata.org/bokeh/release/bokeh-tables-1.0.2.min.js\", \"https://cdn.pydata.org/bokeh/release/bokeh-gl-1.0.2.min.js\"];\n\n  var inline_js = [\n    function(Bokeh) {\n      Bokeh.set_log_level(\"info\");\n    },\n    \n    function(Bokeh) {\n      \n    },\n    function(Bokeh) {\n      console.log(\"Bokeh: injecting CSS: https://cdn.pydata.org/bokeh/release/bokeh-1.0.2.min.css\");\n      Bokeh.embed.inject_css(\"https://cdn.pydata.org/bokeh/release/bokeh-1.0.2.min.css\");\n      console.log(\"Bokeh: injecting CSS: https://cdn.pydata.org/bokeh/release/bokeh-widgets-1.0.2.min.css\");\n      Bokeh.embed.inject_css(\"https://cdn.pydata.org/bokeh/release/bokeh-widgets-1.0.2.min.css\");\n      console.log(\"Bokeh: injecting CSS: https://cdn.pydata.org/bokeh/release/bokeh-tables-1.0.2.min.css\");\n      Bokeh.embed.inject_css(\"https://cdn.pydata.org/bokeh/release/bokeh-tables-1.0.2.min.css\");\n    }\n  ];\n\n  function run_inline_js() {\n    \n    if ((root.Bokeh !== undefined) || (force === true)) {\n      for (var i = 0; i < inline_js.length; i++) {\n        inline_js[i].call(root, root.Bokeh);\n      }if (force === true) {\n        display_loaded();\n      }} else if (Date.now() < root._bokeh_timeout) {\n      setTimeout(run_inline_js, 100);\n    } else if (!root._bokeh_failed_load) {\n      console.log(\"Bokeh: BokehJS failed to load within specified timeout.\");\n      root._bokeh_failed_load = true;\n    } else if (force !== true) {\n      var cell = $(document.getElementById(\"1001\")).parents('.cell').data().cell;\n      cell.output_area.append_execute_result(NB_LOAD_WARNING)\n    }\n\n  }\n\n  if (root._bokeh_is_loading === 0) {\n    console.log(\"Bokeh: BokehJS loaded, going straight to plotting\");\n    run_inline_js();\n  } else {\n    load_libs(js_urls, function() {\n      console.log(\"Bokeh: BokehJS plotting callback run at\", now());\n      run_inline_js();\n    });\n  }\n}(window));"
     },
     "metadata": {},
     "output_type": "display_data"
    }
   ],
   "source": [
    "from bokeh.plotting import output_notebook\n",
    "output_notebook()"
   ]
  },
  {
   "cell_type": "code",
   "execution_count": 2,
   "metadata": {
    "collapsed": true
   },
   "outputs": [],
   "source": [
    "import pandas as pd\n",
    "df = pd.read_csv('lnkd.csv', parse_dates=['Date'])"
   ]
  },
  {
   "cell_type": "code",
   "execution_count": 3,
   "metadata": {
    "collapsed": true
   },
   "outputs": [],
   "source": [
    "from bokeh.plotting import figure, show"
   ]
  },
  {
   "cell_type": "code",
   "execution_count": 4,
   "metadata": {
    "collapsed": false
   },
   "outputs": [
    {
     "data": {
      "text/html": [
       "\n",
       "\n",
       "\n",
       "\n",
       "\n",
       "\n",
       "  <div class=\"bk-root\" id=\"8f2fe3a7-e31a-4a98-a5a8-f043da0a3e38\"></div>\n"
      ]
     },
     "metadata": {},
     "output_type": "display_data"
    },
    {
     "data": {
      "application/javascript": [
       "(function(root) {\n",
       "  function embed_document(root) {\n",
       "    \n",
       "  var docs_json = {\"5edd3105-ae07-488b-b08e-8825bd866ea3\":{\"roots\":{\"references\":[{\"attributes\":{\"below\":[{\"id\":\"1011\",\"type\":\"DatetimeAxis\"}],\"left\":[{\"id\":\"1016\",\"type\":\"LinearAxis\"}],\"renderers\":[{\"id\":\"1011\",\"type\":\"DatetimeAxis\"},{\"id\":\"1015\",\"type\":\"Grid\"},{\"id\":\"1016\",\"type\":\"LinearAxis\"},{\"id\":\"1020\",\"type\":\"Grid\"},{\"id\":\"1029\",\"type\":\"BoxAnnotation\"},{\"id\":\"1039\",\"type\":\"GlyphRenderer\"}],\"title\":{\"id\":\"1042\",\"type\":\"Title\"},\"toolbar\":{\"id\":\"1027\",\"type\":\"Toolbar\"},\"x_range\":{\"id\":\"1003\",\"type\":\"DataRange1d\"},\"x_scale\":{\"id\":\"1007\",\"type\":\"LinearScale\"},\"y_range\":{\"id\":\"1005\",\"type\":\"DataRange1d\"},\"y_scale\":{\"id\":\"1009\",\"type\":\"LinearScale\"}},\"id\":\"1002\",\"subtype\":\"Figure\",\"type\":\"Plot\"},{\"attributes\":{},\"id\":\"1021\",\"type\":\"PanTool\"},{\"attributes\":{\"mantissas\":[1,2,5],\"max_interval\":500.0,\"num_minor_ticks\":0},\"id\":\"1047\",\"type\":\"AdaptiveTicker\"},{\"attributes\":{\"base\":60,\"mantissas\":[1,2,5,10,15,20,30],\"max_interval\":1800000.0,\"min_interval\":1000.0,\"num_minor_ticks\":0},\"id\":\"1048\",\"type\":\"AdaptiveTicker\"},{\"attributes\":{\"overlay\":{\"id\":\"1029\",\"type\":\"BoxAnnotation\"}},\"id\":\"1023\",\"type\":\"BoxZoomTool\"},{\"attributes\":{\"base\":24,\"mantissas\":[1,2,4,6,8,12],\"max_interval\":43200000.0,\"min_interval\":3600000.0,\"num_minor_ticks\":0},\"id\":\"1049\",\"type\":\"AdaptiveTicker\"},{\"attributes\":{},\"id\":\"1024\",\"type\":\"SaveTool\"},{\"attributes\":{\"days\":[1,2,3,4,5,6,7,8,9,10,11,12,13,14,15,16,17,18,19,20,21,22,23,24,25,26,27,28,29,30,31]},\"id\":\"1050\",\"type\":\"DaysTicker\"},{\"attributes\":{},\"id\":\"1025\",\"type\":\"ResetTool\"},{\"attributes\":{\"days\":[1,4,7,10,13,16,19,22,25,28]},\"id\":\"1051\",\"type\":\"DaysTicker\"},{\"attributes\":{},\"id\":\"1026\",\"type\":\"HelpTool\"},{\"attributes\":{\"callback\":null},\"id\":\"1003\",\"type\":\"DataRange1d\"},{\"attributes\":{\"days\":[1,8,15,22]},\"id\":\"1052\",\"type\":\"DaysTicker\"},{\"attributes\":{\"active_drag\":\"auto\",\"active_inspect\":\"auto\",\"active_multi\":null,\"active_scroll\":\"auto\",\"active_tap\":\"auto\",\"tools\":[{\"id\":\"1021\",\"type\":\"PanTool\"},{\"id\":\"1022\",\"type\":\"WheelZoomTool\"},{\"id\":\"1023\",\"type\":\"BoxZoomTool\"},{\"id\":\"1024\",\"type\":\"SaveTool\"},{\"id\":\"1025\",\"type\":\"ResetTool\"},{\"id\":\"1026\",\"type\":\"HelpTool\"}]},\"id\":\"1027\",\"type\":\"Toolbar\"},{\"attributes\":{\"callback\":null},\"id\":\"1005\",\"type\":\"DataRange1d\"},{\"attributes\":{\"days\":[1,15]},\"id\":\"1053\",\"type\":\"DaysTicker\"},{\"attributes\":{},\"id\":\"1022\",\"type\":\"WheelZoomTool\"},{\"attributes\":{\"bottom_units\":\"screen\",\"fill_alpha\":{\"value\":0.5},\"fill_color\":{\"value\":\"lightgrey\"},\"left_units\":\"screen\",\"level\":\"overlay\",\"line_alpha\":{\"value\":1.0},\"line_color\":{\"value\":\"black\"},\"line_dash\":[4,4],\"line_width\":{\"value\":2},\"plot\":null,\"render_mode\":\"css\",\"right_units\":\"screen\",\"top_units\":\"screen\"},\"id\":\"1029\",\"type\":\"BoxAnnotation\"},{\"attributes\":{},\"id\":\"1007\",\"type\":\"LinearScale\"},{\"attributes\":{\"months\":[0,1,2,3,4,5,6,7,8,9,10,11]},\"id\":\"1054\",\"type\":\"MonthsTicker\"},{\"attributes\":{\"line_color\":\"#1f77b4\",\"x\":{\"field\":\"x\"},\"y\":{\"field\":\"y\"}},\"id\":\"1037\",\"type\":\"Line\"},{\"attributes\":{},\"id\":\"1009\",\"type\":\"LinearScale\"},{\"attributes\":{\"months\":[0,2,4,6,8,10]},\"id\":\"1055\",\"type\":\"MonthsTicker\"},{\"attributes\":{\"formatter\":{\"id\":\"1044\",\"type\":\"DatetimeTickFormatter\"},\"plot\":{\"id\":\"1002\",\"subtype\":\"Figure\",\"type\":\"Plot\"},\"ticker\":{\"id\":\"1012\",\"type\":\"DatetimeTicker\"}},\"id\":\"1011\",\"type\":\"DatetimeAxis\"},{\"attributes\":{\"months\":[0,4,8]},\"id\":\"1056\",\"type\":\"MonthsTicker\"},{\"attributes\":{\"num_minor_ticks\":5,\"tickers\":[{\"id\":\"1047\",\"type\":\"AdaptiveTicker\"},{\"id\":\"1048\",\"type\":\"AdaptiveTicker\"},{\"id\":\"1049\",\"type\":\"AdaptiveTicker\"},{\"id\":\"1050\",\"type\":\"DaysTicker\"},{\"id\":\"1051\",\"type\":\"DaysTicker\"},{\"id\":\"1052\",\"type\":\"DaysTicker\"},{\"id\":\"1053\",\"type\":\"DaysTicker\"},{\"id\":\"1054\",\"type\":\"MonthsTicker\"},{\"id\":\"1055\",\"type\":\"MonthsTicker\"},{\"id\":\"1056\",\"type\":\"MonthsTicker\"},{\"id\":\"1057\",\"type\":\"MonthsTicker\"},{\"id\":\"1058\",\"type\":\"YearsTicker\"}]},\"id\":\"1012\",\"type\":\"DatetimeTicker\"},{\"attributes\":{\"months\":[0,6]},\"id\":\"1057\",\"type\":\"MonthsTicker\"},{\"attributes\":{\"line_alpha\":0.1,\"line_color\":\"#1f77b4\",\"x\":{\"field\":\"x\"},\"y\":{\"field\":\"y\"}},\"id\":\"1038\",\"type\":\"Line\"},{\"attributes\":{},\"id\":\"1058\",\"type\":\"YearsTicker\"},{\"attributes\":{\"plot\":{\"id\":\"1002\",\"subtype\":\"Figure\",\"type\":\"Plot\"},\"ticker\":{\"id\":\"1012\",\"type\":\"DatetimeTicker\"}},\"id\":\"1015\",\"type\":\"Grid\"},{\"attributes\":{\"data_source\":{\"id\":\"1036\",\"type\":\"ColumnDataSource\"},\"glyph\":{\"id\":\"1037\",\"type\":\"Line\"},\"hover_glyph\":null,\"muted_glyph\":null,\"nonselection_glyph\":{\"id\":\"1038\",\"type\":\"Line\"},\"selection_glyph\":null,\"view\":{\"id\":\"1040\",\"type\":\"CDSView\"}},\"id\":\"1039\",\"type\":\"GlyphRenderer\"},{\"attributes\":{},\"id\":\"1059\",\"type\":\"Selection\"},{\"attributes\":{\"formatter\":{\"id\":\"1046\",\"type\":\"BasicTickFormatter\"},\"plot\":{\"id\":\"1002\",\"subtype\":\"Figure\",\"type\":\"Plot\"},\"ticker\":{\"id\":\"1017\",\"type\":\"BasicTicker\"}},\"id\":\"1016\",\"type\":\"LinearAxis\"},{\"attributes\":{\"source\":{\"id\":\"1036\",\"type\":\"ColumnDataSource\"}},\"id\":\"1040\",\"type\":\"CDSView\"},{\"attributes\":{},\"id\":\"1060\",\"type\":\"UnionRenderers\"},{\"attributes\":{},\"id\":\"1017\",\"type\":\"BasicTicker\"},{\"attributes\":{\"dimension\":1,\"plot\":{\"id\":\"1002\",\"subtype\":\"Figure\",\"type\":\"Plot\"},\"ticker\":{\"id\":\"1017\",\"type\":\"BasicTicker\"}},\"id\":\"1020\",\"type\":\"Grid\"},{\"attributes\":{},\"id\":\"1044\",\"type\":\"DatetimeTickFormatter\"},{\"attributes\":{\"callback\":null,\"data\":{\"x\":{\"__ndarray__\":\"AACARmmNdUIAAMDgFo11QgAAAHvEjHVCAADASc2LdUIAAADkeot1QgAAQH4oi3VCAACAGNaKdUIAAMCyg4p1QgAAgIGMiXVCAAAAtueIdUIAAEBQlYh1QgAAgOpCiHVCAABAuUuHdUIAAIBT+YZ1QgAAwO2mhnVCAAAAiFSGdUIAAEAiAoZ1QgAAAPEKhXVCAABAi7iEdUIAAIAlZoR1QgAAwL8ThHVCAAAAWsGDdUIAAMAoyoJ1QgAAAMN3gnVCAABAXSWCdUIAAID30oF1QgAAwJGAgXVCAACAYImAdUIAAMD6NoB1QgAAAJXkf3VCAABAL5J/dUIAAIDJP391QgAAQJhIfnVCAACAMvZ9dUIAAMDMo311QgAAAGdRfXVCAABAAf98dUIAAADQB3x1QgAAQGq1e3VCAACABGN7dUIAAMCeEHt1QgAAADm+enVCAADAB8d5dUIAAACidHl1QgAAQDwieXVCAACA1s94dUIAAMBwfXh1QgAAgD+Gd3VCAADA2TN3dUIAAAB04XZ1QgAAQA6PdnVCAACAqDx2dUIAAEB3RXV1QgAAgBHzdHVCAADAq6B0dUIAAABGTnR1QgAAQOD7c3VCAAAArwRzdUIAAEBJsnJ1QgAAgONfcnVCAADAfQ1ydUIAAAAYu3F1QgAAwObDcHVCAAAAgXFwdUIAAEAbH3B1QgAAgLXMb3VCAACAHoNudUIAAMC4MG51QgAAAFPebXVCAABA7YttdUIAAICHOW11QgAAQFZCbHVCAACA8O9rdUIAAMCKnWt1QgAAACVLa3VCAABAv/hqdUIAAACOAWp1QgAAQCivaXVCAACAwlxpdUIAAMBcCml1QgAAAPe3aHVCAADAxcBndUIAAABgbmd1QgAAQPobZ3VCAACAlMlmdUIAAMAud2Z1QgAAgP1/ZXVCAADAly1ldUIAAAAy22R1QgAAQMyIZHVCAACAZjZkdUIAAEA1P2N1QgAAgM/sYnVCAADAaZpidUIAAAAESGJ1QgAAQJ71YXVCAAAAbf5gdUIAAEAHrGB1QgAAgKFZYHVCAADAOwdgdUIAAADWtF91QgAAwKS9XnVCAAAAP2tedUIAAEDZGF51QgAAgHPGXXVCAADADXRddUIAAIDcfFx1QgAAwHYqXHVCAAAAEdhbdUIAAECrhVt1QgAAQBQ8WnVCAACArulZdUIAAMBIl1l1QgAAAONEWXVCAABAffJYdUIAAABM+1d1QgAAQOaoV3VCAACAgFZXdUIAAMAaBFd1QgAAALWxVnVCAADAg7pVdUIAAAAeaFV1QgAAQLgVVXVCAACAUsNUdUIAAMDscFR1QgAAgLt5U3VCAADAVSdTdUIAAADw1FJ1QgAAQIqCUnVCAACAJDBSdUIAAEDzOFF1QgAAgI3mUHVCAADAJ5RQdUIAAADCQVB1QgAAACv4TnVCAABAxaVOdUIAAIBfU051QgAAwPkATnVCAAAAlK5NdUIAAMBit0x1QgAAAP1kTHVCAABAlxJMdUIAAIAxwEt1QgAAwMttS3VCAACAmnZKdUIAAMA0JEp1QgAAAM/RSXVCAABAaX9JdUIAAIADLUl1QgAAQNI1SHVCAACAbONHdUIAAMAGkUd1QgAAAKE+R3VCAABAO+xGdUIAAAAK9UV1QgAAQKSiRXVCAACAPlBFdUIAAMDY/UR1QgAAAHOrRHVCAADAQbRDdUIAAADcYUN1QgAAQHYPQ3VCAACAEL1CdUIAAMCqakJ1QgAAgHlzQXVCAADAEyFBdUIAAACuzkB1QgAAQEh8QHVCAACA4ilAdUIAAECxMj91QgAAgEvgPnVCAADA5Y0+dUIAAACAOz51QgAAQBrpPXVCAAAA6fE8dUIAAECDnzx1QgAAgB1NPHVCAADAt/o7dUI=\",\"dtype\":\"float64\",\"shape\":[178]},\"y\":{\"__ndarray__\":\"H4XrUbh+aECuR+F6FH5oQAAAAAAAaGhAZmZmZmZmaEBSuB6F62loQEjhehSuZ2hAKVyPwvVgaECkcD0K12NoQM3MzMzMZGhAPQrXo3BdaEDXo3A9CjdoQOF6FK5HMWhAFK5H4Xo0aEAzMzMzMytoQNejcD0KL2hAmpmZmZnhZ0ApXI/C9dBnQK5H4XoU7mdAAAAAAADgZ0C4HoXrUeBnQArXo3A96mdApHA9CtfDZ0AzMzMzM3NnQI/C9Shch2dAAAAAAACQZ0CPwvUoXJ9nQDMzMzMzs2dAAAAAAACwZ0Bcj8L1KJRnQOF6FK5HqWdAmpmZmZmpZ0AzMzMzM7tnQKRwPQrXw2dAzczMzMzMZ0DNzMzMzMxnQFyPwvUozGdAZmZmZmbOZ0BI4XoUrtdnQFK4HoXr0WdA16NwPQrPZ0B7FK5H4cpnQB+F61G41mdA9ihcj8LlZ0AAAAAAAPhnQB+F61G4BmhAj8L1KFwHaEBmZmZmZv5nQKRwPQrX42dApHA9CtfbZ0DhehSuRwloQGZmZmZmBmhA4XoUrkchaEDhehSuRxloQI/C9ShcD2hAzczMzMwMaEAAAAAAABBoQGZmZmZmBmhAzczMzMwMaEB7FK5H4RJoQBSuR+F6HGhAhetRuB4VaECamZmZmRloQEjhehSuF2hAMzMzMzMbaEBSuB6F6xloQOF6FK5HGWhAmpmZmZkZaECPwvUoXBdoQAAAAAAAGGhAmpmZmZkJaEApXI/C9QhoQAAAAAAAEGhAzczMzMz8Z0DNzMzMzPxnQArXo3A9+mdAcT0K16P4Z0AAAAAAAPBnQOxRuB6F62dAzczMzMzsZ0AAAAAAAOBnQFK4HoXr4WdA7FG4HoXzZ0CamZmZmflnQAAAAAAAAGhAzczMzMz8Z0C4HoXrUfhnQM3MzMzMBGhAuB6F61EAaEC4HoXrUQhoQHE9CtejEGhAexSuR+EiaECPwvUoXBdoQHE9CtejKGhAmpmZmZkJaECamZmZmRFoQK5H4XoU/mdAZmZmZma+Z0AK16NwPbJnQJqZmZmZsWdA7FG4HoW7Z0AzMzMzM7NnQArXo3A9smdAUrgeheupZ0DsUbgehbtnQJqZmZmZyWdAcT0K16PIZ0CuR+F6FM5nQGZmZmZmxmdAZmZmZmbOZ0C4HoXrUcBnQAAAAAAAsGdAAAAAAACoZ0B7FK5H4bJnQAAAAAAAsGdArkfhehSuZ0DsUbgehcNnQGZmZmZmzmdACtejcD3KZ0DhehSuR9lnQFK4HoXr2WdAmpmZmZnZZ0DD9Shcj+pnQOF6FK5H6WdAXI/C9Sj0Z0AfhetRuAZoQMP1KFyPYmBAcT0K16MQYUAzMzMzM7tgQGZmZmZmtmBAZmZmZmb2YEAK16NwPeJgQAAAAAAAEGFAKVyPwvUgYUAAAAAAABBhQOxRuB6Fa2BAAAAAAAAoYECkcD0K1ztgQMP1KFyPEmBAmpmZmZlJX0CkcD0K12NfQI/C9ShcT19AFK5H4XoMYEA9CtejcB1gQNejcD0KH2BAw/UoXI/CX0CamZmZmblfQHE9CtejGGBA9ihcj8IdYEBmZmZmZmZeQBSuR+F6dF5A16NwPQrHXkDD9ShcjyJfQArXo3A9Ol9AMzMzMzMbYECkcD0K11NfQHE9CtejwF5AZmZmZma2XUBSuB6F66FeQB+F61G4Hl5AzczMzMzcXUA9CtejcB1eQBSuR+F6VF1AexSuR+HaXEAAAAAAAIBdQNejcD0KJ11AzczMzMxsXUAfhetRuE5cQFyPwvUobFtAMzMzMzNTW0Bcj8L1KBxbQOxRuB6FG1xAAAAAAACwXEDsUbgehWtcQKRwPQrX01xAuB6F61HoXEBmZmZmZpZcQIXrUbgedVxAUrgeheuBW0A=\",\"dtype\":\"float64\",\"shape\":[178]}},\"selected\":{\"id\":\"1059\",\"type\":\"Selection\"},\"selection_policy\":{\"id\":\"1060\",\"type\":\"UnionRenderers\"}},\"id\":\"1036\",\"type\":\"ColumnDataSource\"},{\"attributes\":{},\"id\":\"1046\",\"type\":\"BasicTickFormatter\"},{\"attributes\":{\"plot\":null,\"text\":\"\"},\"id\":\"1042\",\"type\":\"Title\"}],\"root_ids\":[\"1002\"]},\"title\":\"Bokeh Application\",\"version\":\"1.0.2\"}};\n",
       "  var render_items = [{\"docid\":\"5edd3105-ae07-488b-b08e-8825bd866ea3\",\"roots\":{\"1002\":\"8f2fe3a7-e31a-4a98-a5a8-f043da0a3e38\"}}];\n",
       "  root.Bokeh.embed.embed_items_notebook(docs_json, render_items);\n",
       "\n",
       "  }\n",
       "  if (root.Bokeh !== undefined) {\n",
       "    embed_document(root);\n",
       "  } else {\n",
       "    var attempts = 0;\n",
       "    var timer = setInterval(function(root) {\n",
       "      if (root.Bokeh !== undefined) {\n",
       "        embed_document(root);\n",
       "        clearInterval(timer);\n",
       "      }\n",
       "      attempts++;\n",
       "      if (attempts > 100) {\n",
       "        console.log(\"Bokeh: ERROR: Unable to run BokehJS code because BokehJS library is missing\");\n",
       "        clearInterval(timer);\n",
       "      }\n",
       "    }, 10, root)\n",
       "  }\n",
       "})(window);"
      ],
      "application/vnd.bokehjs_exec.v0+json": ""
     },
     "metadata": {
      "application/vnd.bokehjs_exec.v0+json": {
       "id": "1002"
      }
     },
     "output_type": "display_data"
    }
   ],
   "source": [
    "fig = figure(x_axis_type='datetime')\n",
    "fig.line(df['Date'], df['Close'])\n",
    "show(fig)"
   ]
  },
  {
   "cell_type": "code",
   "execution_count": 5,
   "metadata": {
    "collapsed": true
   },
   "outputs": [],
   "source": [
    "from bokeh.layouts import gridplot"
   ]
  },
  {
   "cell_type": "code",
   "execution_count": 6,
   "metadata": {
    "collapsed": true
   },
   "outputs": [],
   "source": [
    "import numpy as np"
   ]
  },
  {
   "cell_type": "code",
   "execution_count": 7,
   "metadata": {
    "collapsed": false
   },
   "outputs": [
    {
     "data": {
      "text/html": [
       "\n",
       "\n",
       "\n",
       "\n",
       "\n",
       "\n",
       "  <div class=\"bk-root\" id=\"d08f57f9-2755-4368-ba1f-f071b0560000\"></div>\n"
      ]
     },
     "metadata": {},
     "output_type": "display_data"
    },
    {
     "data": {
      "application/javascript": [
       "(function(root) {\n",
       "  function embed_document(root) {\n",
       "    \n",
       "  var docs_json = {\"733cc2e3-47be-40f7-aa20-ec88aeae54b7\":{\"roots\":{\"references\":[{\"attributes\":{\"children\":[{\"id\":\"1289\",\"type\":\"ToolbarBox\"},{\"id\":\"1287\",\"type\":\"Column\"}]},\"id\":\"1290\",\"type\":\"Column\"},{\"attributes\":{\"line_color\":\"#1f77b4\",\"x\":{\"field\":\"x\"},\"y\":{\"field\":\"y\"}},\"id\":\"1225\",\"type\":\"Line\"},{\"attributes\":{\"source\":{\"id\":\"1263\",\"type\":\"ColumnDataSource\"}},\"id\":\"1267\",\"type\":\"CDSView\"},{\"attributes\":{\"below\":[{\"id\":\"1199\",\"type\":\"LinearAxis\"}],\"left\":[{\"id\":\"1204\",\"type\":\"LinearAxis\"}],\"plot_height\":300,\"plot_width\":300,\"renderers\":[{\"id\":\"1199\",\"type\":\"LinearAxis\"},{\"id\":\"1203\",\"type\":\"Grid\"},{\"id\":\"1204\",\"type\":\"LinearAxis\"},{\"id\":\"1208\",\"type\":\"Grid\"},{\"id\":\"1217\",\"type\":\"BoxAnnotation\"},{\"id\":\"1227\",\"type\":\"GlyphRenderer\"}],\"title\":{\"id\":\"1188\",\"type\":\"Title\"},\"toolbar\":{\"id\":\"1215\",\"type\":\"Toolbar\"},\"toolbar_location\":null,\"x_range\":{\"id\":\"1191\",\"type\":\"DataRange1d\"},\"x_scale\":{\"id\":\"1195\",\"type\":\"LinearScale\"},\"y_range\":{\"id\":\"1193\",\"type\":\"DataRange1d\"},\"y_scale\":{\"id\":\"1197\",\"type\":\"LinearScale\"}},\"id\":\"1189\",\"subtype\":\"Figure\",\"type\":\"Plot\"},{\"attributes\":{\"formatter\":{\"id\":\"1279\",\"type\":\"BasicTickFormatter\"},\"plot\":{\"id\":\"1230\",\"subtype\":\"Figure\",\"type\":\"Plot\"},\"ticker\":{\"id\":\"1239\",\"type\":\"BasicTicker\"}},\"id\":\"1238\",\"type\":\"LinearAxis\"},{\"attributes\":{\"plot\":null,\"text\":\"sin(x)\"},\"id\":\"1188\",\"type\":\"Title\"},{\"attributes\":{},\"id\":\"1213\",\"type\":\"ResetTool\"},{\"attributes\":{},\"id\":\"1239\",\"type\":\"BasicTicker\"},{\"attributes\":{\"line_alpha\":0.1,\"line_color\":\"#1f77b4\",\"x\":{\"field\":\"x\"},\"y\":{\"field\":\"y\"}},\"id\":\"1226\",\"type\":\"Line\"},{\"attributes\":{},\"id\":\"1212\",\"type\":\"SaveTool\"},{\"attributes\":{},\"id\":\"1270\",\"type\":\"BasicTickFormatter\"},{\"attributes\":{\"plot\":{\"id\":\"1230\",\"subtype\":\"Figure\",\"type\":\"Plot\"},\"ticker\":{\"id\":\"1239\",\"type\":\"BasicTicker\"}},\"id\":\"1242\",\"type\":\"Grid\"},{\"attributes\":{\"overlay\":{\"id\":\"1217\",\"type\":\"BoxAnnotation\"}},\"id\":\"1211\",\"type\":\"BoxZoomTool\"},{\"attributes\":{},\"id\":\"1272\",\"type\":\"BasicTickFormatter\"},{\"attributes\":{},\"id\":\"1197\",\"type\":\"LinearScale\"},{\"attributes\":{\"formatter\":{\"id\":\"1281\",\"type\":\"BasicTickFormatter\"},\"plot\":{\"id\":\"1230\",\"subtype\":\"Figure\",\"type\":\"Plot\"},\"ticker\":{\"id\":\"1244\",\"type\":\"BasicTicker\"}},\"id\":\"1243\",\"type\":\"LinearAxis\"},{\"attributes\":{},\"id\":\"1210\",\"type\":\"WheelZoomTool\"},{\"attributes\":{},\"id\":\"1273\",\"type\":\"Selection\"},{\"attributes\":{},\"id\":\"1195\",\"type\":\"LinearScale\"},{\"attributes\":{},\"id\":\"1214\",\"type\":\"HelpTool\"},{\"attributes\":{},\"id\":\"1244\",\"type\":\"BasicTicker\"},{\"attributes\":{},\"id\":\"1274\",\"type\":\"UnionRenderers\"},{\"attributes\":{\"callback\":null},\"id\":\"1193\",\"type\":\"DataRange1d\"},{\"attributes\":{\"active_drag\":\"auto\",\"active_inspect\":\"auto\",\"active_multi\":null,\"active_scroll\":\"auto\",\"active_tap\":\"auto\",\"tools\":[{\"id\":\"1209\",\"type\":\"PanTool\"},{\"id\":\"1210\",\"type\":\"WheelZoomTool\"},{\"id\":\"1211\",\"type\":\"BoxZoomTool\"},{\"id\":\"1212\",\"type\":\"SaveTool\"},{\"id\":\"1213\",\"type\":\"ResetTool\"},{\"id\":\"1214\",\"type\":\"HelpTool\"}]},\"id\":\"1215\",\"type\":\"Toolbar\"},{\"attributes\":{\"dimension\":1,\"plot\":{\"id\":\"1230\",\"subtype\":\"Figure\",\"type\":\"Plot\"},\"ticker\":{\"id\":\"1244\",\"type\":\"BasicTicker\"}},\"id\":\"1247\",\"type\":\"Grid\"},{\"attributes\":{},\"id\":\"1279\",\"type\":\"BasicTickFormatter\"},{\"attributes\":{\"callback\":null},\"id\":\"1191\",\"type\":\"DataRange1d\"},{\"attributes\":{\"data_source\":{\"id\":\"1224\",\"type\":\"ColumnDataSource\"},\"glyph\":{\"id\":\"1225\",\"type\":\"Line\"},\"hover_glyph\":null,\"muted_glyph\":null,\"nonselection_glyph\":{\"id\":\"1226\",\"type\":\"Line\"},\"selection_glyph\":null,\"view\":{\"id\":\"1228\",\"type\":\"CDSView\"}},\"id\":\"1227\",\"type\":\"GlyphRenderer\"},{\"attributes\":{\"line_color\":\"#1f77b4\",\"x\":{\"field\":\"x\"},\"y\":{\"field\":\"y\"}},\"id\":\"1264\",\"type\":\"Line\"},{\"attributes\":{},\"id\":\"1281\",\"type\":\"BasicTickFormatter\"},{\"attributes\":{\"children\":[{\"id\":\"1189\",\"subtype\":\"Figure\",\"type\":\"Plot\"},{\"id\":\"1230\",\"subtype\":\"Figure\",\"type\":\"Plot\"}]},\"id\":\"1286\",\"type\":\"Row\"},{\"attributes\":{\"bottom_units\":\"screen\",\"fill_alpha\":{\"value\":0.5},\"fill_color\":{\"value\":\"lightgrey\"},\"left_units\":\"screen\",\"level\":\"overlay\",\"line_alpha\":{\"value\":1.0},\"line_color\":{\"value\":\"black\"},\"line_dash\":[4,4],\"line_width\":{\"value\":2},\"plot\":null,\"render_mode\":\"css\",\"right_units\":\"screen\",\"top_units\":\"screen\"},\"id\":\"1217\",\"type\":\"BoxAnnotation\"},{\"attributes\":{},\"id\":\"1282\",\"type\":\"Selection\"},{\"attributes\":{\"callback\":null,\"data\":{\"x\":{\"__ndarray__\":\"AAAAAAAAFMBDYt7OkJgTwIbEvJ0hMRPAyiabbLLJEsANiXk7Q2ISwFDrVwrU+hHAk0022WSTEcDXrxSo9SsRwBoS83aGxBDAXXTRRRddEMBArV8pUOsPwMdxHMdxHA/ATjbZZJNNDsDU+pUCtX4NwFq/UqDWrwzA4YMPPvjgC8BoSMzbGRILwO4MiXk7QwrAdNFFF110CcD7lQK1fqUIwIFav1Kg1gfACB988MEHB8CO4ziO4zgGwBWo9SsFagXAm2yyySabBMAiMW9nSMwDwKj1KwVq/QLAL7rooosuAsC1fqVArV8BwDxDYt7OkADAhA8++OCD/7+SmLczJOb9v54hMW9nSPy/qqqqqqqq+r+4MyTm7Qz5v8S8nSExb/e/0kUXXXTR9b/ezpCYtzP0v+xXCtT6lfK/+OCDDz748L8I1PqVArXuvyjm7QyJeeu/QPjggw8+6L9YCtT6lQLlv3Acx3Ecx+G/IF100UUX3b9QgVq/UqDWv4ClQK1fKdC/YJNNNtlkw78Ab2dIzNupvwBvZ0jM26k/YJNNNtlkwz+ApUCtXynQP1CBWr9SoNY/EF100UUX3T9wHMdxHMfhP1gK1PqVAuU/QPjggw8+6D8g5u0MiXnrPwjU+pUCte4/+OCDDz748D/sVwrU+pXyP9zOkJi3M/Q/0EUXXXTR9T/EvJ0hMW/3P7gzJObtDPk/rKqqqqqq+j+cITFvZ0j8P5CYtzMk5v0/hA8++OCD/z88Q2LezpAAQLR+pUCtXwFALrrooosuAkCo9SsFav0CQCIxb2dIzANAmmyyySabBEAUqPUrBWoFQI7jOI7jOAZACB988MEHB0CAWr9SoNYHQPyVArV+pQhAdNFFF110CUDsDIl5O0MKQGhIzNsZEgtA4IMPPvjgC0Bcv1Kg1q8MQNT6lQK1fg1ATDbZZJNNDkDIcRzHcRwPQECtXylQ6w9AXHTRRRddEEAaEvN2hsQQQNavFKj1KxFAlE022WSTEUBQ61cK1PoRQAyJeTtDYhJAyiabbLLJEkCGxLydITETQERi3s6QmBNAAAAAAAAAFEA=\",\"dtype\":\"float64\",\"shape\":[100]},\"y\":{\"__ndarray__\":\"M5ng9YGv7j+d54yBynHvP7uw9goD4u8/WYyUswb/7z8/sQHDicjvPzKKmmwaP+8/4LxgXB9k7j8+JO8O1DntP12ZCP5Cw+s/w9j1sD0E6j9HlmjFUgHoP4mJ5QrCv+U/wRS/z25F4z85AGGD0JjgP0qdDqzDgds/ayLWAx2K1T+nT7i1f7TOP/N6QGOjBMI/uFFoxwSXpD/23toTQBqvvyAsqliWnsS/RnIPa2ag0L8bHOd8HcbWv8HNv11lsNy/hAK7Eucn4b9UQbKo1crjvzDk/AcdOua/kUw2lWJv6L96EWsX42Tqvz5aEsKBFey///6zjNV87b8Lamm1NJfuv9iQL1C+Ye+/dhoXymHa7788pbdM5P/vv3Ij1vPj0e+/VwDezNhQ778/VJKdE37uvzzQKHW6W+2/LxXEEMPs678I1O8h6zTqvzuNR4uuOOi/f6HCrDv95b+Swy/eZYjjvy6EKTuW4OC/b4hi0HUZ3L+ovTP5aSjWv1vH1QEV+8+/tDwiw99Rw7+z5g3t+9ipv7PmDe372Kk/tDwiw99Rwz9bx9UBFfvPP6i9M/lpKNY/YIhi0HUZ3D8uhCk7luDgP5LDL95liOM/f6HCrDv95T82jUeLrjjoPwjU7yHrNOo/LxXEEMPs6z880Ch1ulvtPz5Ukp0Tfu4/VgDezNhQ7z9yI9bz49HvPzylt0zk/+8/dhoXymHa7z/ZkC9QvmHvPwxqabU0l+4///6zjNV87T8+WhLCgRXsP30RaxfjZOo/k0w2lWJv6D8w5PwHHTrmP1RBsqjVyuM/iAK7Eucn4T/Izb9dZbDcPxsc53wdxtY/RnIPa2ag0D8wLKpYlp7EP7be2hNAGq8/uFFoxwSXpL/UekBjowTCv6dPuLV/tM6/ZCLWAx2K1b9YnQ6sw4HbvzkAYYPQmOC/uxS/z25F47+MieUKwr/lv0eWaMVSAei/vtj1sD0E6r9dmQj+QsPrvzsk7w7UOe2/47xgXB9k7r8yippsGj/vvz+xAcOJyO+/WYyUswb/77+7sPYKA+Lvv5znjIHKce+/M5ng9YGv7r8=\",\"dtype\":\"float64\",\"shape\":[100]}},\"selected\":{\"id\":\"1273\",\"type\":\"Selection\"},\"selection_policy\":{\"id\":\"1274\",\"type\":\"UnionRenderers\"}},\"id\":\"1224\",\"type\":\"ColumnDataSource\"},{\"attributes\":{\"source\":{\"id\":\"1224\",\"type\":\"ColumnDataSource\"}},\"id\":\"1228\",\"type\":\"CDSView\"},{\"attributes\":{},\"id\":\"1248\",\"type\":\"PanTool\"},{\"attributes\":{\"plot\":null,\"text\":\"sinc(x)\"},\"id\":\"1229\",\"type\":\"Title\"},{\"attributes\":{},\"id\":\"1283\",\"type\":\"UnionRenderers\"},{\"attributes\":{\"plot\":{\"id\":\"1189\",\"subtype\":\"Figure\",\"type\":\"Plot\"},\"ticker\":{\"id\":\"1200\",\"type\":\"BasicTicker\"}},\"id\":\"1203\",\"type\":\"Grid\"},{\"attributes\":{},\"id\":\"1249\",\"type\":\"WheelZoomTool\"},{\"attributes\":{},\"id\":\"1200\",\"type\":\"BasicTicker\"},{\"attributes\":{\"overlay\":{\"id\":\"1256\",\"type\":\"BoxAnnotation\"}},\"id\":\"1250\",\"type\":\"BoxZoomTool\"},{\"attributes\":{\"tools\":[{\"id\":\"1209\",\"type\":\"PanTool\"},{\"id\":\"1210\",\"type\":\"WheelZoomTool\"},{\"id\":\"1211\",\"type\":\"BoxZoomTool\"},{\"id\":\"1212\",\"type\":\"SaveTool\"},{\"id\":\"1213\",\"type\":\"ResetTool\"},{\"id\":\"1214\",\"type\":\"HelpTool\"},{\"id\":\"1248\",\"type\":\"PanTool\"},{\"id\":\"1249\",\"type\":\"WheelZoomTool\"},{\"id\":\"1250\",\"type\":\"BoxZoomTool\"},{\"id\":\"1251\",\"type\":\"SaveTool\"},{\"id\":\"1252\",\"type\":\"ResetTool\"},{\"id\":\"1253\",\"type\":\"HelpTool\"}]},\"id\":\"1288\",\"type\":\"ProxyToolbar\"},{\"attributes\":{},\"id\":\"1236\",\"type\":\"LinearScale\"},{\"attributes\":{\"formatter\":{\"id\":\"1270\",\"type\":\"BasicTickFormatter\"},\"plot\":{\"id\":\"1189\",\"subtype\":\"Figure\",\"type\":\"Plot\"},\"ticker\":{\"id\":\"1200\",\"type\":\"BasicTicker\"}},\"id\":\"1199\",\"type\":\"LinearAxis\"},{\"attributes\":{},\"id\":\"1251\",\"type\":\"SaveTool\"},{\"attributes\":{\"toolbar\":{\"id\":\"1288\",\"type\":\"ProxyToolbar\"},\"toolbar_location\":\"above\"},\"id\":\"1289\",\"type\":\"ToolbarBox\"},{\"attributes\":{},\"id\":\"1234\",\"type\":\"LinearScale\"},{\"attributes\":{\"formatter\":{\"id\":\"1272\",\"type\":\"BasicTickFormatter\"},\"plot\":{\"id\":\"1189\",\"subtype\":\"Figure\",\"type\":\"Plot\"},\"ticker\":{\"id\":\"1205\",\"type\":\"BasicTicker\"}},\"id\":\"1204\",\"type\":\"LinearAxis\"},{\"attributes\":{},\"id\":\"1252\",\"type\":\"ResetTool\"},{\"attributes\":{},\"id\":\"1205\",\"type\":\"BasicTicker\"},{\"attributes\":{},\"id\":\"1253\",\"type\":\"HelpTool\"},{\"attributes\":{\"callback\":null,\"data\":{\"x\":{\"__ndarray__\":\"AAAAAAAAFMBDYt7OkJgTwIbEvJ0hMRPAyiabbLLJEsANiXk7Q2ISwFDrVwrU+hHAk0022WSTEcDXrxSo9SsRwBoS83aGxBDAXXTRRRddEMBArV8pUOsPwMdxHMdxHA/ATjbZZJNNDsDU+pUCtX4NwFq/UqDWrwzA4YMPPvjgC8BoSMzbGRILwO4MiXk7QwrAdNFFF110CcD7lQK1fqUIwIFav1Kg1gfACB988MEHB8CO4ziO4zgGwBWo9SsFagXAm2yyySabBMAiMW9nSMwDwKj1KwVq/QLAL7rooosuAsC1fqVArV8BwDxDYt7OkADAhA8++OCD/7+SmLczJOb9v54hMW9nSPy/qqqqqqqq+r+4MyTm7Qz5v8S8nSExb/e/0kUXXXTR9b/ezpCYtzP0v+xXCtT6lfK/+OCDDz748L8I1PqVArXuvyjm7QyJeeu/QPjggw8+6L9YCtT6lQLlv3Acx3Ecx+G/IF100UUX3b9QgVq/UqDWv4ClQK1fKdC/YJNNNtlkw78Ab2dIzNupvwBvZ0jM26k/YJNNNtlkwz+ApUCtXynQP1CBWr9SoNY/EF100UUX3T9wHMdxHMfhP1gK1PqVAuU/QPjggw8+6D8g5u0MiXnrPwjU+pUCte4/+OCDDz748D/sVwrU+pXyP9zOkJi3M/Q/0EUXXXTR9T/EvJ0hMW/3P7gzJObtDPk/rKqqqqqq+j+cITFvZ0j8P5CYtzMk5v0/hA8++OCD/z88Q2LezpAAQLR+pUCtXwFALrrooosuAkCo9SsFav0CQCIxb2dIzANAmmyyySabBEAUqPUrBWoFQI7jOI7jOAZACB988MEHB0CAWr9SoNYHQPyVArV+pQhAdNFFF110CUDsDIl5O0MKQGhIzNsZEgtA4IMPPvjgC0Bcv1Kg1q8MQNT6lQK1fg1ATDbZZJNNDkDIcRzHcRwPQECtXylQ6w9AXHTRRRddEEAaEvN2hsQQQNavFKj1KxFAlE022WSTEUBQ61cK1PoRQAyJeTtDYhJAyiabbLLJEkCGxLydITETQERi3s6QmBNAAAAAAAAAFEA=\",\"dtype\":\"float64\",\"shape\":[100]},\"y\":{\"__ndarray__\":\"0s01rq94hjw2A+SsxcKUP6lrDwa3I6Q/XT3tvZZDrD8fuzD2PO6wP+TgQCVZILI/HDAZWIGGsT/Kw1zNvDWuP2vD7ZbbC6Y/afhcB41ylj8LfozDWrxkv5b9ZICmqpy/psXCErOYqr8f4RReyGayv6Zp/4Yo57W/sXDslFlbt7/yVzOg2n62v+Du3UkHRLO/zAB/uSOxq7+wRbQXSpKav8eB6+E3wHs/7gqP62cKpT/nUHrAQNuyP64sjmsi3rk/c6TFVJa+vj/d1tTSd2nAP9IDj1zJqb8//gwi0tIYuz9FU/SjNEazP/f5NMTpVqE/+LUBhsp1j7/kLjiot3uxv29ksGuxvL6/G8ZGmMgrxb9diNUNxHjJv0pD7kGNpcu/aBwXbLkty7/LDPHnW7THv+BDpMqnDcG/2A3RMKgUrb+qz51bA4ClPyMmpZRJZcQ/GmvFyImO0j/xHTefgFnbPwWKYuRcDuI/jRCuEVEu5j8dlTtNpNDpP/OgyElVv+w/5hKxqCLO7j+my4LFq93vP6bLgsWr3e8/5hKxqCLO7j/zoMhJVb/sPx2VO02k0Ok/lxCuEVEu5j8FimLkXA7iP/EdN5+AWds/GmvFyImO0j9IJqWUSWXEP6rPnVsDgKU/2A3RMKgUrb/gQ6TKpw3Bv8UM8edbtMe/ZhwXbLkty79KQ+5BjaXLv12I1Q3EeMm/E8ZGmMgrxb95ZLBrsby+v+8uOKi3e7G/+LUBhsp1j7/3+TTE6VahPz1T9KM0RrM/+gwi0tIYuz/SA49cyam/P93W1NJ3acA/eaTFVJa+vj+3LI5rIt65P+dQesBA27I/7gqP62cKpT+iguvhN8B7P7BFtBdKkpq/zAB/uSOxq7/S7t1JB0Szv/JXM6Dafra/sXDslFlbt7+eaf+GKOe1vx/hFF7IZrK/uMXCErOYqr+W/WSApqqcvwt+jMNavGS/H/hcB41ylj9rw+2W2wumP7bDXM28Na4/ITAZWIGGsT/k4EAlWSCyPyK7MPY87rA/XT3tvZZDrD+paw8GtyOkP/cC5KzFwpQ/0s01rq94hjw=\",\"dtype\":\"float64\",\"shape\":[100]}},\"selected\":{\"id\":\"1282\",\"type\":\"Selection\"},\"selection_policy\":{\"id\":\"1283\",\"type\":\"UnionRenderers\"}},\"id\":\"1263\",\"type\":\"ColumnDataSource\"},{\"attributes\":{\"children\":[{\"id\":\"1286\",\"type\":\"Row\"}]},\"id\":\"1287\",\"type\":\"Column\"},{\"attributes\":{\"dimension\":1,\"plot\":{\"id\":\"1189\",\"subtype\":\"Figure\",\"type\":\"Plot\"},\"ticker\":{\"id\":\"1205\",\"type\":\"BasicTicker\"}},\"id\":\"1208\",\"type\":\"Grid\"},{\"attributes\":{\"active_drag\":\"auto\",\"active_inspect\":\"auto\",\"active_multi\":null,\"active_scroll\":\"auto\",\"active_tap\":\"auto\",\"tools\":[{\"id\":\"1248\",\"type\":\"PanTool\"},{\"id\":\"1249\",\"type\":\"WheelZoomTool\"},{\"id\":\"1250\",\"type\":\"BoxZoomTool\"},{\"id\":\"1251\",\"type\":\"SaveTool\"},{\"id\":\"1252\",\"type\":\"ResetTool\"},{\"id\":\"1253\",\"type\":\"HelpTool\"}]},\"id\":\"1254\",\"type\":\"Toolbar\"},{\"attributes\":{\"line_alpha\":0.1,\"line_color\":\"#1f77b4\",\"x\":{\"field\":\"x\"},\"y\":{\"field\":\"y\"}},\"id\":\"1265\",\"type\":\"Line\"},{\"attributes\":{},\"id\":\"1209\",\"type\":\"PanTool\"},{\"attributes\":{\"bottom_units\":\"screen\",\"fill_alpha\":{\"value\":0.5},\"fill_color\":{\"value\":\"lightgrey\"},\"left_units\":\"screen\",\"level\":\"overlay\",\"line_alpha\":{\"value\":1.0},\"line_color\":{\"value\":\"black\"},\"line_dash\":[4,4],\"line_width\":{\"value\":2},\"plot\":null,\"render_mode\":\"css\",\"right_units\":\"screen\",\"top_units\":\"screen\"},\"id\":\"1256\",\"type\":\"BoxAnnotation\"},{\"attributes\":{\"below\":[{\"id\":\"1238\",\"type\":\"LinearAxis\"}],\"left\":[{\"id\":\"1243\",\"type\":\"LinearAxis\"}],\"plot_height\":300,\"plot_width\":300,\"renderers\":[{\"id\":\"1238\",\"type\":\"LinearAxis\"},{\"id\":\"1242\",\"type\":\"Grid\"},{\"id\":\"1243\",\"type\":\"LinearAxis\"},{\"id\":\"1247\",\"type\":\"Grid\"},{\"id\":\"1256\",\"type\":\"BoxAnnotation\"},{\"id\":\"1266\",\"type\":\"GlyphRenderer\"}],\"title\":{\"id\":\"1229\",\"type\":\"Title\"},\"toolbar\":{\"id\":\"1254\",\"type\":\"Toolbar\"},\"toolbar_location\":null,\"x_range\":{\"id\":\"1191\",\"type\":\"DataRange1d\"},\"x_scale\":{\"id\":\"1234\",\"type\":\"LinearScale\"},\"y_range\":{\"id\":\"1193\",\"type\":\"DataRange1d\"},\"y_scale\":{\"id\":\"1236\",\"type\":\"LinearScale\"}},\"id\":\"1230\",\"subtype\":\"Figure\",\"type\":\"Plot\"},{\"attributes\":{\"data_source\":{\"id\":\"1263\",\"type\":\"ColumnDataSource\"},\"glyph\":{\"id\":\"1264\",\"type\":\"Line\"},\"hover_glyph\":null,\"muted_glyph\":null,\"nonselection_glyph\":{\"id\":\"1265\",\"type\":\"Line\"},\"selection_glyph\":null,\"view\":{\"id\":\"1267\",\"type\":\"CDSView\"}},\"id\":\"1266\",\"type\":\"GlyphRenderer\"}],\"root_ids\":[\"1290\"]},\"title\":\"Bokeh Application\",\"version\":\"1.0.2\"}};\n",
       "  var render_items = [{\"docid\":\"733cc2e3-47be-40f7-aa20-ec88aeae54b7\",\"roots\":{\"1290\":\"d08f57f9-2755-4368-ba1f-f071b0560000\"}}];\n",
       "  root.Bokeh.embed.embed_items_notebook(docs_json, render_items);\n",
       "\n",
       "  }\n",
       "  if (root.Bokeh !== undefined) {\n",
       "    embed_document(root);\n",
       "  } else {\n",
       "    var attempts = 0;\n",
       "    var timer = setInterval(function(root) {\n",
       "      if (root.Bokeh !== undefined) {\n",
       "        embed_document(root);\n",
       "        clearInterval(timer);\n",
       "      }\n",
       "      attempts++;\n",
       "      if (attempts > 100) {\n",
       "        console.log(\"Bokeh: ERROR: Unable to run BokehJS code because BokehJS library is missing\");\n",
       "        clearInterval(timer);\n",
       "      }\n",
       "    }, 10, root)\n",
       "  }\n",
       "})(window);"
      ],
      "application/vnd.bokehjs_exec.v0+json": ""
     },
     "metadata": {
      "application/vnd.bokehjs_exec.v0+json": {
       "id": "1290"
      }
     },
     "output_type": "display_data"
    }
   ],
   "source": [
    "xs = np.linspace(-5, 5, 100)\n",
    "fig1 = figure(title='sin(x)', plot_width=300, plot_height=300)\n",
    "fig1.line(xs, np.sin(xs))\n",
    "fig2 = figure(x_range=fig1.x_range, y_range=fig1.y_range, title='sinc(x)', plot_width=300, plot_height=300)\n",
    "fig2.line(xs, np.sinc(xs))\n",
    "gp = gridplot([[fig1, fig2]])\n",
    "show(gp)"
   ]
  },
  {
   "cell_type": "markdown",
   "metadata": {},
   "source": [
    "# Combining `bokeh` and `pandas`"
   ]
  },
  {
   "cell_type": "code",
   "execution_count": 8,
   "metadata": {
    "collapsed": true
   },
   "outputs": [
    {
     "ename": "ImportError",
     "evalue": "cannot import name 'mpl' from 'bokeh' (/home/manohar/Software/anaconda3/lib/python3.7/site-packages/bokeh/__init__.py)",
     "output_type": "error",
     "traceback": [
      "\u001b[0;31m---------------------------------------------------------------------------\u001b[0m",
      "\u001b[0;31mImportError\u001b[0m                               Traceback (most recent call last)",
      "\u001b[0;32m<ipython-input-8-d8edf7d96d52>\u001b[0m in \u001b[0;36m<module>\u001b[0;34m\u001b[0m\n\u001b[0;32m----> 1\u001b[0;31m \u001b[0;32mfrom\u001b[0m \u001b[0mbokeh\u001b[0m \u001b[0;32mimport\u001b[0m \u001b[0mmpl\u001b[0m\u001b[0;34m\u001b[0m\u001b[0;34m\u001b[0m\u001b[0m\n\u001b[0m",
      "\u001b[0;31mImportError\u001b[0m: cannot import name 'mpl' from 'bokeh' (/home/manohar/Software/anaconda3/lib/python3.7/site-packages/bokeh/__init__.py)"
     ]
    }
   ],
   "source": [
    "from bokeh import mpl"
   ]
  },
  {
   "cell_type": "code",
   "execution_count": 15,
   "metadata": {
    "collapsed": true
   },
   "outputs": [],
   "source": [
    "import matplotlib.pyplot as plt"
   ]
  },
  {
   "cell_type": "code",
   "execution_count": 16,
   "metadata": {
    "collapsed": false
   },
   "outputs": [
    {
     "ename": "NameError",
     "evalue": "name 'mpl' is not defined",
     "output_type": "error",
     "traceback": [
      "\u001b[0;31m---------------------------------------------------------------------------\u001b[0m",
      "\u001b[0;31mNameError\u001b[0m                                 Traceback (most recent call last)",
      "\u001b[0;32m<ipython-input-16-407186939a19>\u001b[0m in \u001b[0;36m<module>\u001b[0;34m\u001b[0m\n\u001b[1;32m      1\u001b[0m \u001b[0mdf\u001b[0m\u001b[0;34m[\u001b[0m\u001b[0;34m'Volume'\u001b[0m\u001b[0;34m]\u001b[0m\u001b[0;34m.\u001b[0m\u001b[0mplot\u001b[0m\u001b[0;34m(\u001b[0m\u001b[0;34m)\u001b[0m\u001b[0;34m\u001b[0m\u001b[0;34m\u001b[0m\u001b[0m\n\u001b[0;32m----> 2\u001b[0;31m \u001b[0mfig\u001b[0m \u001b[0;34m=\u001b[0m \u001b[0mmpl\u001b[0m\u001b[0;34m.\u001b[0m\u001b[0mto_bokeh\u001b[0m\u001b[0;34m(\u001b[0m\u001b[0mplt\u001b[0m\u001b[0;34m.\u001b[0m\u001b[0mgcf\u001b[0m\u001b[0;34m(\u001b[0m\u001b[0;34m)\u001b[0m\u001b[0;34m)\u001b[0m\u001b[0;34m\u001b[0m\u001b[0;34m\u001b[0m\u001b[0m\n\u001b[0m\u001b[1;32m      3\u001b[0m \u001b[0mshow\u001b[0m\u001b[0;34m(\u001b[0m\u001b[0mfig\u001b[0m\u001b[0;34m)\u001b[0m\u001b[0;34m\u001b[0m\u001b[0;34m\u001b[0m\u001b[0m\n",
      "\u001b[0;31mNameError\u001b[0m: name 'mpl' is not defined"
     ]
    },
    {
     "data": {
      "image/png": "[encoded data removed]",
      "text/plain": [
       "<Figure size 432x288 with 1 Axes>"
      ]
     },
     "metadata": {
      "needs_background": "light"
     },
     "output_type": "display_data"
    }
   ],
   "source": [
    "df['Volume'].plot()\n",
    "fig = mpl.to_bokeh(plt.gcf())\n",
    "show(fig)"
   ]
  },
  {
   "cell_type": "code",
   "execution_count": null,
   "metadata": {
    "collapsed": true
   },
   "outputs": [],
   "source": []
  }
 ],
 "metadata": {
  "kernelspec": {
   "display_name": "Python 3",
   "language": "python",
   "name": "python3"
  },
  "language_info": {
   "codemirror_mode": {
    "name": "ipython",
    "version": 3
   },
   "file_extension": ".py",
   "mimetype": "text/x-python",
   "name": "python",
   "nbconvert_exporter": "python",
   "pygments_lexer": "ipython3",
   "version": "3.6.8"
  }
 },
 "nbformat": 4,
 "nbformat_minor": 2
}
